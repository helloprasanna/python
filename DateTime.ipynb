{
 "cells": [
  {
   "cell_type": "code",
   "execution_count": 12,
   "metadata": {},
   "outputs": [
    {
     "name": "stdout",
     "output_type": "stream",
     "text": [
      "7\n"
     ]
    }
   ],
   "source": [
    "import datetime\n",
    "dob = '20110101'\n",
    "\n",
    "\n",
    "today = datetime.datetime.now()\n",
    "yyyy = int(dob[0:4])\n",
    "mm = int(dob[4:6])\n",
    "dd = int(dob[6:8])\n",
    "dob = datetime.datetime(yyyy,mm,dd)\n",
    "age_in_days = (today - dob).days\n",
    "age_in_years = age_in_days/365\n",
    "print(int(age_in_years))\n",
    "\n"
   ]
  },
  {
   "cell_type": "code",
   "execution_count": 16,
   "metadata": {},
   "outputs": [
    {
     "name": "stdout",
     "output_type": "stream",
     "text": [
      "2011-01-01\n",
      "Saturday, January, 01, 2011\n",
      "year Saturday, January, 01, 2011\n",
      "2005-06-01 13:33:00\n"
     ]
    }
   ],
   "source": [
    "# Formatt date\n",
    "dob1 = datetime.date(2011,1,1)\n",
    "print(dob1)\n",
    "\n",
    "frm = 'year {:%A, %B, %d, %Y}'\n",
    "print(dob1.strftime('%A, %B, %d, %Y')) # old method\n",
    "print(frm.format(dob1))\n",
    "\n",
    "dob3 = datetime.datetime.strptime('Jun 1 2005  1:33PM', '%b %d %Y %I:%M%p')\n",
    "print(dob3)"
   ]
  }
 ],
 "metadata": {
  "kernelspec": {
   "display_name": "Python 3",
   "language": "python",
   "name": "python3"
  },
  "language_info": {
   "codemirror_mode": {
    "name": "ipython",
    "version": 3
   },
   "file_extension": ".py",
   "mimetype": "text/x-python",
   "name": "python",
   "nbconvert_exporter": "python",
   "pygments_lexer": "ipython3",
   "version": "3.6.5"
  }
 },
 "nbformat": 4,
 "nbformat_minor": 2
}
