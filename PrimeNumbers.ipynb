{
 "cells": [
  {
   "cell_type": "code",
   "execution_count": 39,
   "metadata": {},
   "outputs": [
    {
     "data": {
      "text/plain": [
       "True"
      ]
     },
     "execution_count": 39,
     "metadata": {},
     "output_type": "execute_result"
    }
   ],
   "source": [
    "import math\n",
    "\n",
    "def isPrime(n):\n",
    "    if n == 1:\n",
    "        return False;\n",
    "    elif n%2 == 0 or n==2 :\n",
    "        return True\n",
    "    else:\n",
    "        for i in range(3,int(math.sqrt(n))+1,2):\n",
    "        #for i in range(2,n):\n",
    "            if n % i == 0:\n",
    "                return False\n",
    "        return True\n",
    "    \n",
    "\n",
    "isPrime(13)             "
   ]
  },
  {
   "cell_type": "code",
   "execution_count": 24,
   "metadata": {},
   "outputs": [
    {
     "name": "stdout",
     "output_type": "stream",
     "text": [
      "1\n",
      "2\n",
      "2  is Prime\n",
      "3\n",
      "3  is Prime\n",
      "4\n",
      "5\n",
      "5  is Prime\n",
      "6\n",
      "7\n",
      "7  is Prime\n",
      "8\n",
      "9\n"
     ]
    }
   ],
   "source": [
    "for i in range(1,10):\n",
    "    print(i)\n",
    "    if isPrime(i):\n",
    "        print(i,' is Prime')"
   ]
  },
  {
   "cell_type": "code",
   "execution_count": 75,
   "metadata": {},
   "outputs": [
    {
     "name": "stdout",
     "output_type": "stream",
     "text": [
      "True\n",
      "Time taken 132 0:00:00.000132\n"
     ]
    }
   ],
   "source": [
    "from datetime import datetime\n",
    "\n",
    "t = datetime.now()\n",
    "print(isPrime(1000099))\n",
    "t1 = datetime.now()\n",
    "\n",
    "print('Time taken', (t1-t).microseconds, t1-t)"
   ]
  },
  {
   "cell_type": "code",
   "execution_count": 58,
   "metadata": {},
   "outputs": [
    {
     "name": "stdout",
     "output_type": "stream",
     "text": [
      "True\n",
      "Time taken 143 0:00:00.000143\n"
     ]
    }
   ],
   "source": [
    "# Another prime generation method\n",
    "import sympy\n",
    "is_prime = lambda x: sympy.isprime(x)\n",
    "\n",
    "\n",
    "t = datetime.now()\n",
    "print(is_prime(1000099))\n",
    "t1 = datetime.now()\n",
    "print('Time taken', (t1-t).microseconds, t1-t)"
   ]
  }
 ],
 "metadata": {
  "kernelspec": {
   "display_name": "Python 3",
   "language": "python",
   "name": "python3"
  },
  "language_info": {
   "codemirror_mode": {
    "name": "ipython",
    "version": 3
   },
   "file_extension": ".py",
   "mimetype": "text/x-python",
   "name": "python",
   "nbconvert_exporter": "python",
   "pygments_lexer": "ipython3",
   "version": "3.6.5"
  }
 },
 "nbformat": 4,
 "nbformat_minor": 2
}
