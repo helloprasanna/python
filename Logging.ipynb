{
 "cells": [
  {
   "cell_type": "code",
   "execution_count": 8,
   "metadata": {},
   "outputs": [],
   "source": [
    "import logging\n",
    "\n",
    "# numeric_level = getattr(logging, loglevel.upper(), None)\n",
    "# print(numeric_level)\n",
    "logging.basicConfig(filename=\"example.log\",\n",
    "                    level=logging.DEBUG,\n",
    "                    format='%(asctime)s:%(levelname)s:%(message)s',\n",
    "                    filemode='w')\n",
    "log = logging.getLogger()\n",
    "clog = logging.getLogger()\n",
    "\n"
   ]
  },
  {
   "cell_type": "code",
   "execution_count": 9,
   "metadata": {},
   "outputs": [],
   "source": [
    "clog.setLevel(logging.ERROR)\n",
    "log.setLevel(logging.DEBUG)\n",
    "log.warning('-'*20 + 'Starting Log')\n",
    "logging.debug('This message should go to the log file')\n",
    "logging.info('So should this')\n",
    "logging.warning('Arguments: %s & %s','first str',\"second str\")\n",
    "# modular approach\n",
    "log.info('Arguments: %s & %s','first str',\"second str\") \n",
    "clog.info('Arguments: %s & %s','first str',\"second str\") # wont be displayed\n",
    "clog.error('This is error')"
   ]
  },
  {
   "cell_type": "code",
   "execution_count": 1,
   "metadata": {},
   "outputs": [
    {
     "name": "stderr",
     "output_type": "stream",
     "text": [
      "2018-09-28 17:35:17,343 - simple_example - DEBUG - debug message\n",
      "2018-09-28 17:35:17,344 - simple_example - INFO - info message\n",
      "/Users/prasanna/anaconda3/lib/python3.6/site-packages/ipykernel_launcher.py:23: DeprecationWarning: The 'warn' method is deprecated, use 'warning' instead\n",
      "2018-09-28 17:35:17,346 - simple_example - WARNING - warn message\n",
      "2018-09-28 17:35:17,347 - simple_example - ERROR - error message\n",
      "2018-09-28 17:35:17,347 - simple_example - CRITICAL - critical message\n"
     ]
    }
   ],
   "source": [
    "import logging\n",
    "\n",
    "# Console logger\n",
    "# create logger\n",
    "logger = logging.getLogger('simple_example')\n",
    "logger.setLevel(logging.DEBUG)\n",
    "\n",
    "# create console handler and set level to debug\n",
    "ch = logging.StreamHandler()\n",
    "ch.setLevel(logging.DEBUG)\n",
    "\n",
    "# create formatter\n",
    "formatter = logging.Formatter('%(asctime)s - %(name)s - %(levelname)s - %(message)s')\n",
    "\n",
    "# add formatter to ch\n",
    "ch.setFormatter(formatter)\n",
    "\n",
    "# add ch to logger\n",
    "logger.addHandler(ch)\n",
    "\n",
    "# 'application' code\n",
    "logger.debug('debug message')\n",
    "logger.info('info message')\n",
    "logger.warn('warn message')\n",
    "logger.error('error message')\n",
    "logger.critical('critical message')\n"
   ]
  }
 ],
 "metadata": {
  "kernelspec": {
   "display_name": "Python 3",
   "language": "python",
   "name": "python3"
  },
  "language_info": {
   "codemirror_mode": {
    "name": "ipython",
    "version": 3
   },
   "file_extension": ".py",
   "mimetype": "text/x-python",
   "name": "python",
   "nbconvert_exporter": "python",
   "pygments_lexer": "ipython3",
   "version": "3.6.5"
  }
 },
 "nbformat": 4,
 "nbformat_minor": 2
}
