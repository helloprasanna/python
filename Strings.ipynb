{
 "cells": [
  {
   "cell_type": "code",
   "execution_count": 32,
   "metadata": {},
   "outputs": [
    {
     "name": "stdout",
     "output_type": "stream",
     "text": [
      "<class 'int'>\n",
      "<class 'float'>\n",
      "4\n",
      "<class 'int'>\n",
      "3\n",
      "<class 'float'>\n",
      "hello\n",
      "(2-6.1j)\n",
      "<class 'complex'>\n",
      "2.0\n",
      "-6.1\n"
     ]
    }
   ],
   "source": [
    "\n",
    "a = 3\n",
    "b = 1\n",
    "fl = 3.3837373\n",
    "ll = 23234343434343434343\n",
    "print(type(ll))\n",
    "ll = 3.83838\n",
    "print(type(ll))\n",
    "\n",
    "print(a+b)\n",
    "print(type(a))\n",
    "print(a)\n",
    "type(b) # output goes to terminal\n",
    "print(type(fl))\n",
    "print('hello')\n",
    "\n",
    "# Complex numbers\n",
    "z = 2 - 6.1j\n",
    "print(z)\n",
    "print(type(z))\n",
    "print(z.real)\n",
    "print(z.imag)\n",
    "\n"
   ]
  },
  {
   "cell_type": "code",
   "execution_count": null,
   "metadata": {},
   "outputs": [],
   "source": [
    "c=\"hello \"+str(a+b)\n",
    "print(c)\n",
    "print(len(c))\n",
    "type(c)"
   ]
  },
  {
   "cell_type": "code",
   "execution_count": null,
   "metadata": {
    "scrolled": true
   },
   "outputs": [],
   "source": [
    "for i in range(2,5):\n",
    "    print(i)"
   ]
  },
  {
   "cell_type": "code",
   "execution_count": null,
   "metadata": {
    "scrolled": true
   },
   "outputs": [],
   "source": [
    "string = 'string'\n",
    "for i in range(11):\n",
    "    string += str(i)\n",
    "print (string)"
   ]
  },
  {
   "cell_type": "code",
   "execution_count": null,
   "metadata": {},
   "outputs": [],
   "source": [
    "s = \"foo bar\"\n",
    "s = 'foo bar'\n",
    "s = r\"c:\\dir\\new\"                     # raw (== 'c:\\\\dir\\\\new')\n",
    "s = \"\"\"Hello\n",
    "       world\"\"\"\n",
    "s.join(\" baz\")  # don't know\n",
    "n = len(s)\n",
    "\"Ala ma {} psy i {} koty\".format(2,3)\n",
    "\"Square root of 2 is equal to {:.2f}\".format(math.sqrt(2))"
   ]
  },
  {
   "cell_type": "code",
   "execution_count": null,
   "metadata": {},
   "outputs": [],
   "source": [
    "# substring\n",
    "s = \"1234567890\"\n",
    "print(s[:3]+'-'+s[3:5]+\"-\"+s[5:])    # start(Exclusive):End index\n",
    "print(s[-2:])\n",
    "print(s[:-2])\n",
    "\n",
    "# Index\n",
    "print(s[0])\n",
    "\n",
    "# formatt\n",
    "print(\"Ala ma {} psy i {} {} koty\".format(2,3,'x'))\n",
    "print(\"Currency Formatting {:.2f}\".format(16.3834774))"
   ]
  },
  {
   "cell_type": "code",
   "execution_count": null,
   "metadata": {},
   "outputs": [],
   "source": [
    "# Lists\n",
    "list = [1,8,3,4,'hi']\n",
    "list.append('hello')\n",
    "list.remove(8)\n",
    "print(list.pop())\n",
    "print('index '+str(list.index('hi')))\n",
    "for i in list:\n",
    "    print(i)"
   ]
  }
 ],
 "metadata": {
  "kernelspec": {
   "display_name": "Python 3",
   "language": "python",
   "name": "python3"
  },
  "language_info": {
   "codemirror_mode": {
    "name": "ipython",
    "version": 3
   },
   "file_extension": ".py",
   "mimetype": "text/x-python",
   "name": "python",
   "nbconvert_exporter": "python",
   "pygments_lexer": "ipython3",
   "version": "3.6.5"
  }
 },
 "nbformat": 4,
 "nbformat_minor": 2
}
