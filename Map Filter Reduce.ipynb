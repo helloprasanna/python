{
 "cells": [
  {
   "cell_type": "markdown",
   "metadata": {},
   "source": [
    "Demonstrates the Map function\n",
    "    which applies function to list of values"
   ]
  },
  {
   "cell_type": "code",
   "execution_count": 4,
   "metadata": {},
   "outputs": [
    {
     "name": "stdout",
     "output_type": "stream",
     "text": [
      "[3, 4, 5, 8, 10, 38]\n",
      "[28.274333882308138, 50.26548245743669, 78.53981633974483, 201.06192982974676, 314.1592653589793, 4536.459791783661]\n"
     ]
    }
   ],
   "source": [
    "import math\n",
    "\n",
    "def area(n):\n",
    "    return math.pi * (n**2)\n",
    "\n",
    "radii=[3,4,5,8,10,38]\n",
    "\n",
    "print(radii)\n",
    "\n",
    "print(list(map(area,radii)))"
   ]
  },
  {
   "cell_type": "markdown",
   "metadata": {},
   "source": [
    "### Applying Map"
   ]
  },
  {
   "cell_type": "code",
   "execution_count": 5,
   "metadata": {},
   "outputs": [
    {
     "name": "stdout",
     "output_type": "stream",
     "text": [
      "[('a', 1), ('b', 4), ('c', 9)]\n"
     ]
    }
   ],
   "source": [
    "li = [('a',1),('b',2),('c',3)]\n",
    "\n",
    "conv = lambda data: (data[0],data[1]**2)\n",
    "\n",
    "print(list(map(conv,li)))"
   ]
  },
  {
   "cell_type": "markdown",
   "metadata": {},
   "source": [
    "### Apply Filter\n",
    "    Filter the list containing more than average"
   ]
  },
  {
   "cell_type": "code",
   "execution_count": 10,
   "metadata": {},
   "outputs": [
    {
     "name": "stdout",
     "output_type": "stream",
     "text": [
      "[6, 7, 6, 8, 9]\n"
     ]
    }
   ],
   "source": [
    "import statistics\n",
    "\n",
    "data = [1,3,4,5,6,7,3,4,6,8,9]\n",
    "avg = statistics.mean(data)\n",
    "\n",
    "print(list(filter(lambda x: x>avg,data)))"
   ]
  },
  {
   "cell_type": "markdown",
   "metadata": {},
   "source": [
    "### Filter None "
   ]
  },
  {
   "cell_type": "code",
   "execution_count": 12,
   "metadata": {},
   "outputs": [
    {
     "name": "stdout",
     "output_type": "stream",
     "text": [
      "['hello.py', 'american', 'russia', 'hell']\n"
     ]
    }
   ],
   "source": [
    "countries=['hello.py','american','russia','','hell']\n",
    "\n",
    "print(list(filter(None,countries)))"
   ]
  },
  {
   "cell_type": "markdown",
   "metadata": {},
   "source": [
    "### Apply reduce to data set"
   ]
  },
  {
   "cell_type": "code",
   "execution_count": null,
   "metadata": {},
   "outputs": [],
   "source": [
    "data = [1,3,4,5,6,7,3,4,6,8,9]\n"
   ]
  }
 ],
 "metadata": {
  "kernelspec": {
   "display_name": "Python 3",
   "language": "python",
   "name": "python3"
  },
  "language_info": {
   "codemirror_mode": {
    "name": "ipython",
    "version": 3
   },
   "file_extension": ".py",
   "mimetype": "text/x-python",
   "name": "python",
   "nbconvert_exporter": "python",
   "pygments_lexer": "ipython3",
   "version": "3.6.5"
  }
 },
 "nbformat": 4,
 "nbformat_minor": 2
}
