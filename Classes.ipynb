{
 "cells": [
  {
   "cell_type": "code",
   "execution_count": 35,
   "metadata": {
    "scrolled": false
   },
   "outputs": [
    {
     "name": "stdout",
     "output_type": "stream",
     "text": [
      "Prasanna Jay\n",
      "hello b\n"
     ]
    }
   ],
   "source": [
    "class User:\n",
    "    pass\n",
    "\n",
    "\n",
    "user1 = User()\n",
    "user1.f = 'Prasanna'\n",
    "user1.s = 'Jay'\n",
    "\n",
    "print(user1.f+' '+user1.s)\n",
    "\n",
    "user2 = User()\n",
    "user2.f = 'hello'\n",
    "user2.s = 'b'\n",
    "\n",
    "print(user2.f+' '+user2.s)\n",
    "\n"
   ]
  },
  {
   "cell_type": "code",
   "execution_count": 3,
   "metadata": {},
   "outputs": [
    {
     "name": "stdout",
     "output_type": "stream",
     "text": [
      "nila pras\n",
      "20110502\n",
      "nila\n",
      "pras\n",
      "7\n"
     ]
    }
   ],
   "source": [
    "import datetime\n",
    "\n",
    "class Userx:\n",
    "    \"\"\"\n",
    "    This is a test class. and this part is documentation\n",
    "    \"\"\"\n",
    "    def __init__(self,f,dob):\n",
    "        \"\"\"Constructor method\n",
    "        self refers to new object\n",
    "        \"\"\"\n",
    "        self.f = f\n",
    "        self.dob = dob\n",
    "        \n",
    "        fp=f.split(' ')\n",
    "        self.fn = fp[0]\n",
    "        last = fp[-1] \n",
    "        self.last = fp[-1] \n",
    "        \n",
    "    def age(self):\n",
    "        \"\"\"returns the age\"\"\"\n",
    "        today = datetime.datetime.now()\n",
    "        yyyy = int(self.dob[0:4])\n",
    "        mm = int(self.dob[4:6])\n",
    "        dd = int(self.dob[6:8])\n",
    "        dob = datetime.datetime(yyyy,mm,dd)\n",
    "        age_in_days = (today - dob).days\n",
    "        age_in_years = age_in_days/365\n",
    "        return int(age_in_years)\n",
    "\n",
    "user3 = Userx('nila pras','20110502')\n",
    "print(user3.f)\n",
    "print(user3.dob)\n",
    "print(user3.fn)\n",
    "print(user3.last)\n",
    "\n",
    "print(user3.age())\n",
    "\n",
    "#help(Userx)"
   ]
  }
 ],
 "metadata": {
  "kernelspec": {
   "display_name": "Python 3",
   "language": "python",
   "name": "python3"
  },
  "language_info": {
   "codemirror_mode": {
    "name": "ipython",
    "version": 3
   },
   "file_extension": ".py",
   "mimetype": "text/x-python",
   "name": "python",
   "nbconvert_exporter": "python",
   "pygments_lexer": "ipython3",
   "version": "3.6.5"
  }
 },
 "nbformat": 4,
 "nbformat_minor": 2
}
