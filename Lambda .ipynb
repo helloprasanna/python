{
 "cells": [
  {
   "cell_type": "code",
   "execution_count": 4,
   "metadata": {},
   "outputs": [
    {
     "name": "stdout",
     "output_type": "stream",
     "text": [
      "hello jd\n"
     ]
    }
   ],
   "source": [
    "fl = lambda fn, ln: fn.strip()+ ' ' +ln.strip()\n",
    "\n",
    "print(fl(\" hello\",\" jd \"))\n",
    "\n"
   ]
  },
  {
   "cell_type": "code",
   "execution_count": 10,
   "metadata": {},
   "outputs": [
    {
     "data": {
      "text/plain": [
       "['aaa zzz', 'add ajo', 'iss newton', 'mmmm nnnn', 'sidney sheldon']"
      ]
     },
     "execution_count": 10,
     "metadata": {},
     "output_type": "execute_result"
    }
   ],
   "source": [
    "authors=['add ajo','iss newton','sidney sheldon','mmmm nnnn','aaa zzz']\n",
    "\n",
    "authors.sort(key=lambda name: name.split(' ')[0].lower())\n",
    "\n",
    "authors"
   ]
  }
 ],
 "metadata": {
  "kernelspec": {
   "display_name": "Python 3",
   "language": "python",
   "name": "python3"
  },
  "language_info": {
   "codemirror_mode": {
    "name": "ipython",
    "version": 3
   },
   "file_extension": ".py",
   "mimetype": "text/x-python",
   "name": "python",
   "nbconvert_exporter": "python",
   "pygments_lexer": "ipython3",
   "version": "3.6.5"
  }
 },
 "nbformat": 4,
 "nbformat_minor": 2
}
